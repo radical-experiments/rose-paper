{
 "cells": [
  {
   "cell_type": "markdown",
   "id": "4e221df5-c5be-444e-9170-0582aab5b80b",
   "metadata": {},
   "source": [
    "# This notebook implements the ExaLearn example with Active Learning custom teaching loop"
   ]
  },
  {
   "cell_type": "code",
   "execution_count": 1,
   "id": "82f839d1-5412-4512-b1e6-a5174a8fb1c1",
   "metadata": {},
   "outputs": [],
   "source": [
    "import os\n",
    "import sys\n",
    "import time\n",
    "\n",
    "verbose  = os.environ.get('RADICAL_PILOT_VERBOSE', 'REPORT')\n",
    "os.environ['RADICAL_PILOT_VERBOSE'] = verbose\n",
    "\n",
    "import radical.pilot as rp\n",
    "import radical.utils as ru\n",
    "\n",
    "from rose.learner import ActiveLearner\n",
    "from rose.engine import Task, ResourceEngine"
   ]
  },
  {
   "cell_type": "markdown",
   "id": "ab4af662-b01e-4890-9646-78d2dcfd40f7",
   "metadata": {},
   "source": [
    "### List parameters for training and simulation\n",
    "\n",
    "We will list the parameters used for running the simulations and training tasks. Runtime parameters for OpenMP are also assigned"
   ]
  },
  {
   "cell_type": "code",
   "execution_count": 2,
   "id": "4ca22d11-5c13-4cdf-b494-d6c5787c3560",
   "metadata": {},
   "outputs": [],
   "source": [
    "seed=20030\n",
    "num_sample=4500\n",
    "num_sample_val=((num_sample / 2))\n",
    "num_sample_test=((num_sample / 2))\n",
    "num_sample_study=num_sample\n",
    "num_al_sample=((num_sample * 3))\n",
    "batch_size=512\n",
    "epochs=[400,300,250,200]\n",
    "\n",
    "NNODES=1\n",
    "\n",
    "nthread=32\n",
    "nthread_tot=( NNODES * nthread )\n",
    "\n",
    "nthread_study=22\n",
    "nthread_study_tot=( NNODES * nthread_study )\n",
    "\n",
    "nrank_ml=4\n",
    "nrank_ml_tot=( NNODES * nrank_ml )\n",
    "\n",
    "ngpus=(NNODES * 4)"
   ]
  },
  {
   "cell_type": "markdown",
   "id": "e18d84ca-e2a6-4940-ad6f-b099cfaec4ea",
   "metadata": {},
   "source": [
    "### Declare the resource engine for our active learning tasks.\n",
    "We will ask for 30 minutes, and the target resources will be local, which means it will run on the user's machine.\n",
    "\n",
    "Next, we define the active learner and assign the resource engine."
   ]
  },
  {
   "cell_type": "code",
   "execution_count": 3,
   "id": "ab21ffb9-ab66-49a9-9357-918dbbeafb2f",
   "metadata": {},
   "outputs": [
    {
     "name": "stdout",
     "output_type": "stream",
     "text": [
      "Resource Engine started successfully\n",
      "\n",
      "Task 'sample_simulation' ready to submit; resolved dependencies: []\n",
      "Task 'sweep_simulation' ready to submit; resolved dependencies: []\n",
      "Task 'sample_simulation' ready to submit; resolved dependencies: []\n",
      "Task 'sample_simulation' ready to submit; resolved dependencies: []\n",
      "submitting ['sample_simulation', 'sweep_simulation', 'sample_simulation', 'sample_simulation'] for execution\n",
      "task.000002 is DONE\n",
      "Task 'merge_preprocess' ready to submit; resolved dependencies: ['sample_simulation']\n",
      "Task 'merge_preprocess' ready to submit; resolved dependencies: ['sample_simulation']\n",
      "Task 'merge_preprocess' ready to submit; resolved dependencies: ['sample_simulation']\n",
      "submitting ['merge_preprocess', 'merge_preprocess', 'merge_preprocess'] for execution\n",
      "task.000003 is DONE\n",
      "task.000001 is DONE\n",
      "task.000000 is DONE\n",
      "Task 'merge_preprocess' ready to submit; resolved dependencies: ['sweep_simulation']\n",
      "Task 'merge_preprocess' ready to submit; resolved dependencies: ['sample_simulation']\n",
      "Task 'merge_preprocess' ready to submit; resolved dependencies: ['sweep_simulation']\n",
      "Task 'merge_preprocess' ready to submit; resolved dependencies: ['sample_simulation']\n",
      "Task 'merge_preprocess' ready to submit; resolved dependencies: ['sample_simulation']\n",
      "Task 'merge_preprocess' ready to submit; resolved dependencies: ['sample_simulation']\n",
      "Task 'merge_preprocess' ready to submit; resolved dependencies: ['sweep_simulation']\n",
      "Task 'merge_preprocess' ready to submit; resolved dependencies: ['sample_simulation']\n",
      "Task 'merge_preprocess' ready to submit; resolved dependencies: ['sample_simulation']\n",
      "submitting ['merge_preprocess', 'merge_preprocess', 'merge_preprocess', 'merge_preprocess', 'merge_preprocess', 'merge_preprocess', 'merge_preprocess', 'merge_preprocess', 'merge_preprocess'] for execution\n",
      "task.000010 is DONE\n",
      "task.000014 is DONE\n",
      "task.000006 is DONE\n",
      "task.000011 is DONE\n",
      "task.000013 is DONE\n",
      "task.000015 is DONE\n",
      "task.000005 is DONE\n",
      "task.000008 is DONE\n",
      "task.000012 is DONE\n",
      "task.000009 is DONE\n",
      "task.000007 is DONE\n",
      "task.000004 is DONE\n",
      "Task 'training' ready to submit; resolved dependencies: []\n",
      "submitting ['training'] for execution\n",
      "task.000016 is DONE\n",
      "Task 'active_learn' ready to submit; resolved dependencies: ['training']\n",
      "submitting ['active_learn'] for execution\n",
      "task.000017 is DONE\n",
      "Task 'simulation' ready to submit; resolved dependencies: []\n",
      "submitting ['simulation'] for execution\n",
      "task.000018 is DONE\n",
      "Task 'merge_preprocess' ready to submit; resolved dependencies: ['simulation']\n",
      "Task 'merge_preprocess' ready to submit; resolved dependencies: ['simulation']\n",
      "Task 'merge_preprocess' ready to submit; resolved dependencies: ['simulation']\n",
      "submitting ['merge_preprocess', 'merge_preprocess', 'merge_preprocess'] for execution\n",
      "task.000021 is DONE\n",
      "task.000019 is DONE\n",
      "task.000020 is DONE\n",
      "Task 'training' ready to submit; resolved dependencies: ['simulation', 'merge_preprocess', 'merge_preprocess', 'merge_preprocess']\n",
      "submitting ['training'] for execution\n",
      "task.000022 is DONE\n",
      "Task 'active_learn' ready to submit; resolved dependencies: ['training']\n",
      "submitting ['active_learn'] for execution\n",
      "task.000023 is DONE\n",
      "Task 'simulation' ready to submit; resolved dependencies: []\n",
      "submitting ['simulation'] for execution\n",
      "task.000024 is DONE\n",
      "Task 'merge_preprocess' ready to submit; resolved dependencies: ['simulation']\n",
      "Task 'merge_preprocess' ready to submit; resolved dependencies: ['simulation']\n",
      "Task 'merge_preprocess' ready to submit; resolved dependencies: ['simulation']\n",
      "submitting ['merge_preprocess', 'merge_preprocess', 'merge_preprocess'] for execution\n",
      "task.000026 is DONE\n",
      "task.000025 is DONE\n",
      "task.000027 is DONE\n",
      "Task 'training' ready to submit; resolved dependencies: ['simulation', 'merge_preprocess', 'merge_preprocess', 'merge_preprocess']\n",
      "submitting ['training'] for execution\n",
      "task.000028 is DONE\n",
      "Task 'active_learn' ready to submit; resolved dependencies: ['training']\n",
      "submitting ['active_learn'] for execution\n",
      "task.000029 is DONE\n",
      "Task 'simulation' ready to submit; resolved dependencies: []\n",
      "submitting ['simulation'] for execution\n",
      "task.000030 is DONE\n",
      "Task 'merge_preprocess' ready to submit; resolved dependencies: ['simulation']\n",
      "Task 'merge_preprocess' ready to submit; resolved dependencies: ['simulation']\n",
      "Task 'merge_preprocess' ready to submit; resolved dependencies: ['simulation']\n",
      "submitting ['merge_preprocess', 'merge_preprocess', 'merge_preprocess'] for execution\n",
      "task.000033 is DONE\n",
      "task.000032 is DONE\n",
      "task.000031 is DONE\n",
      "Task 'training' ready to submit; resolved dependencies: ['simulation', 'merge_preprocess', 'merge_preprocess', 'merge_preprocess']\n",
      "submitting ['training'] for execution\n",
      "task.000034 is DONE\n",
      "Task 'active_learn' ready to submit; resolved dependencies: ['training']\n",
      "submitting ['active_learn'] for execution\n",
      "task.000035 is DONE\n"
     ]
    }
   ],
   "source": [
    "engine = ResourceEngine({'runtime': 30,\n",
    "                         'resource': 'local.localhost'})\n",
    "acl = ActiveLearner(engine)\n",
    "code_path = f'{sys.executable} {os.getcwd()}/scripts'\n",
    "\n",
    "data_dir= f'{os.getcwd()}/data/seed_{seed}'"
   ]
  },
  {
   "cell_type": "markdown",
   "id": "ddc80742-0a04-4ec6-9027-726e7ab020e2",
   "metadata": {},
   "source": [
    "### Now, let us define our active learning tasks: simulation, preprocessing, training, and active learning"
   ]
  },
  {
   "cell_type": "code",
   "execution_count": 4,
   "id": "d2846726-f483-42d3-b714-33816910bac7",
   "metadata": {},
   "outputs": [],
   "source": [
    "# Define and register the simulation task\n",
    "@acl.simulation_task\n",
    "def simulation(*args):\n",
    "#    return Task(executable=f'{code_path}/simulation_resample.py', arguments=args) \n",
    "    return Task(executable=f'{code_path}/replacement_sim.py', arguments=args) # this is a replaced task, dont actually run the simulation sample\n",
    "\n",
    "# Define and register a utility task\n",
    "@acl.utility_task\n",
    "def merge_preprocess(*args):\n",
    "#    return Task(executable=f'{code_path}/merge_preprocess_hdf5.py', arguments=args)\n",
    "    return Task(executable=f'{code_path}/replacement_sim.py', arguments=args)\n",
    "\n",
    "# Define and register the training task\n",
    "@acl.training_task\n",
    "def training(*args):\n",
    "#    return Task(executable=f'{code_path}/train.py', arguments=args)\n",
    "    return Task(executable=f'{code_path}/replacement_sim.py', arguments=args)\n",
    "\n",
    "# Define and register the active learning task\n",
    "@acl.active_learn_task\n",
    "def active_learn(*args):\n",
    "#    return Task(executable=f'{code_path}/active_learning.py', arguments=args)\n",
    "    return Task(executable=f'{code_path}/replacement_sim.py', arguments=args)"
   ]
  },
  {
   "cell_type": "markdown",
   "id": "b2357986-d740-4603-98c4-16da06fd3bd5",
   "metadata": {},
   "source": [
    "### Before running the active learning loop, we must first create some utility tasks for bootstrapping\n",
    "\n",
    "We will need to run some simulation tasks before beginning training. 4 simulation tasks are submitted in parallel along with an additional 3 data preprocess tasks for each simulation task. "
   ]
  },
  {
   "cell_type": "code",
   "execution_count": 5,
   "id": "85244a7c-6870-42a0-8e17-34e8d3609303",
   "metadata": {},
   "outputs": [
    {
     "name": "stdout",
     "output_type": "stream",
     "text": [
      "Registered task 'sample_simulation' and id of 000000 with dependencies: []\n",
      "Registered task 'sample_simulation' and id of 000001 with dependencies: []\n",
      "Registered task 'sample_simulation' and id of 000002 with dependencies: []\n",
      "Registered task 'sweep_simulation' and id of 000003 with dependencies: []\n",
      "Registered task 'merge_preprocess' and id of 000004 with dependencies: ['sample_simulation']\n",
      "Registered task 'merge_preprocess' and id of 000005 with dependencies: ['sample_simulation']\n",
      "Registered task 'merge_preprocess' and id of 000006 with dependencies: ['sample_simulation']\n",
      "Registered task 'merge_preprocess' and id of 000007 with dependencies: ['sweep_simulation']\n",
      "Registered task 'merge_preprocess' and id of 000008 with dependencies: ['sample_simulation']\n",
      "Registered task 'merge_preprocess' and id of 000009 with dependencies: ['sample_simulation']\n",
      "Registered task 'merge_preprocess' and id of 000010 with dependencies: ['sample_simulation']\n",
      "Registered task 'merge_preprocess' and id of 000011 with dependencies: ['sweep_simulation']\n",
      "Registered task 'merge_preprocess' and id of 000012 with dependencies: ['sample_simulation']\n",
      "Registered task 'merge_preprocess' and id of 000013 with dependencies: ['sample_simulation']\n",
      "Registered task 'merge_preprocess' and id of 000014 with dependencies: ['sample_simulation']\n",
      "Registered task 'merge_preprocess' and id of 000015 with dependencies: ['sweep_simulation']\n"
     ]
    }
   ],
   "source": [
    "# Prepare Data\n",
    "# simulation sample task\n",
    "@acl.utility_task\n",
    "def sample_simulation(*args):\n",
    "#    task = Task(executable=f'{code_path}/simulation_sample.py', arguments=args)\n",
    "    return Task(executable=f'{code_path}/replacement_sim.py', arguments=args)\n",
    "\n",
    "#simulation sweep task\n",
    "@acl.utility_task\n",
    "def sweep_simulation(*args):\n",
    "#    task = Task(executable=f'{code_path}/simulation_sweep.py', arguments=args)\n",
    "    return Task(executable=f'{code_path}/replacement_sim.py', arguments=args)\n",
    "\n",
    "def bootstrap():\n",
    "    os.system(f'{code_path}/prepare_data_dir_pm.py --seed {seed}')\n",
    "    \n",
    "    bootstrap=[]\n",
    "    base = sample_simulation(f'{num_sample} {seed} \\\n",
    "            {data_dir}/base/config/config_1001460_cubic.txt \\\n",
    "            {data_dir}/base/config/config_1522004_trigonal.txt \\\n",
    "            {data_dir}/base/config/config_1531431_tetragonal.txt')\n",
    "    val = sample_simulation(f'{num_sample} {seed-1} \\\n",
    "            {data_dir}/validation/config/config_1001460_cubic.txt \\\n",
    "            {data_dir}/validation/config/config_1522004_trigonal.txt \\\n",
    "            {data_dir}/validation/config/config_1531431_tetragonal.txt')\n",
    "    test = sample_simulation(f'{num_sample} {seed+1} \\\n",
    "            {data_dir}/test/config/config_1001460_cubic.txt \\\n",
    "            {data_dir}/test/config/config_1522004_trigonal.txt \\\n",
    "            {data_dir}/test/config/config_1531431_tetragonal.txt')\n",
    "    study = sweep_simulation(f'{num_sample_study} \\\n",
    "            {data_dir}/study/config/config_1001460_cubic.txt \\\n",
    "            {data_dir}/study/config/config_1522004_trigonal.txt \\\n",
    "            {data_dir}/study/config/config_1531431_tetragonal.txt')\n",
    "    bootstrap.append(base)\n",
    "    bootstrap.append(val)\n",
    "    bootstrap.append(test)\n",
    "    bootstrap.append(study)\n",
    "    for shape in ['cubic', 'trigonal', 'tetragonal']:\n",
    "        merge_base = merge_preprocess(f'{data_dir}/base/data {shape} {nthread_tot}', base)\n",
    "        merge_val = merge_preprocess(f'{data_dir}/validation/data {shape} {nthread_tot}', val)\n",
    "        merge_test = merge_preprocess(f'{data_dir}/test/data {shape} {nthread_tot}', test)\n",
    "        merge_study = merge_preprocess(f'{data_dir}/study/data {shape} {nthread_tot}', study)\n",
    "        bootstrap.append(merge_base)\n",
    "        bootstrap.append(merge_val)\n",
    "        bootstrap.append(merge_test)\n",
    "        bootstrap.append(merge_study)\n",
    "    \n",
    "    [task.result() for task in bootstrap]\n",
    "# invoke the bootstrap() method\n",
    "bootstrap()"
   ]
  },
  {
   "cell_type": "markdown",
   "id": "f94308ad-983b-468e-83aa-8da140866aa6",
   "metadata": {},
   "source": [
    "### Define the active learning loop:\n",
    "In each iteration in the learning loop, a simulation tasks is submitted followed by 3 parallel data preprocess tasks to handle the simulation output. We then submit a training task followed by an active learning task."
   ]
  },
  {
   "cell_type": "code",
   "execution_count": 6,
   "id": "9febda57-d8dc-447f-8889-971eb6d7a7be",
   "metadata": {},
   "outputs": [
    {
     "name": "stdout",
     "output_type": "stream",
     "text": [
      "Starting Iteration-0\n",
      "Registered task 'training' and id of 000016 with dependencies: []\n",
      "Registered task 'active_learn' and id of 000017 with dependencies: ['training']\n",
      "Starting Iteration-1\n",
      "Registered task 'simulation' and id of 000018 with dependencies: []\n",
      "Registered task 'merge_preprocess' and id of 000019 with dependencies: ['simulation']\n",
      "Registered task 'merge_preprocess' and id of 000020 with dependencies: ['simulation']\n",
      "Registered task 'merge_preprocess' and id of 000021 with dependencies: ['simulation']\n",
      "Registered task 'training' and id of 000022 with dependencies: ['simulation', 'merge_preprocess', 'merge_preprocess', 'merge_preprocess']\n",
      "Registered task 'active_learn' and id of 000023 with dependencies: ['training']\n",
      "Starting Iteration-2\n",
      "Registered task 'simulation' and id of 000024 with dependencies: []\n",
      "Registered task 'merge_preprocess' and id of 000025 with dependencies: ['simulation']\n",
      "Registered task 'merge_preprocess' and id of 000026 with dependencies: ['simulation']\n",
      "Registered task 'merge_preprocess' and id of 000027 with dependencies: ['simulation']\n",
      "Registered task 'training' and id of 000028 with dependencies: ['simulation', 'merge_preprocess', 'merge_preprocess', 'merge_preprocess']\n",
      "Registered task 'active_learn' and id of 000029 with dependencies: ['training']\n",
      "Starting Iteration-3\n",
      "Registered task 'simulation' and id of 000030 with dependencies: []\n",
      "Registered task 'merge_preprocess' and id of 000031 with dependencies: ['simulation']\n",
      "Registered task 'merge_preprocess' and id of 000032 with dependencies: ['simulation']\n",
      "Registered task 'merge_preprocess' and id of 000033 with dependencies: ['simulation']\n",
      "Registered task 'training' and id of 000034 with dependencies: ['simulation', 'merge_preprocess', 'merge_preprocess', 'merge_preprocess']\n",
      "Registered task 'active_learn' and id of 000035 with dependencies: ['training']\n"
     ]
    }
   ],
   "source": [
    "# Custom training loop using active learning\n",
    "def teach():\n",
    "    for acl_iter in range(4):\n",
    "        print(f'Starting Iteration-{acl_iter}')\n",
    "        simulations = []\n",
    "        if acl_iter != 0:\n",
    "            sim = simulation(f'{seed+2} \\\n",
    "                {data_dir}/AL_phase_{acl_iter}/config/config_1001460_cubic.txt \\\n",
    "                {data_dir}/study/data/cubic_1001460_cubic.hdf5 \\\n",
    "                {data_dir}/AL_phase_{acl_iter}/config/config_1522004_trigonal.txt \\\n",
    "                {data_dir}/study/data/trigonal_1522004_trigonal.hdf5 \\\n",
    "                {data_dir}/AL_phase_{acl_iter}/config/config_1531431_tetragonal.txt \\\n",
    "                {data_dir}/study/data/tetragonal_1531431_tetragonal.hdf5')\n",
    "            simulations.append(sim)\n",
    "            for shape in ['cubic', 'trigonal', 'tetragonal']:\n",
    "                merge=merge_preprocess(f'{data_dir}/AL_phase_{acl_iter}/data cubic {nthread_tot}', sim)\n",
    "                simulations.append(merge)\n",
    "        [sim.result() for sim in simulations]\n",
    "        # Now run training and active_learn\n",
    "        train = training(f'--batch_size {batch_size} \\\n",
    "               --epochs {epochs[acl_iter]} \\\n",
    "               --seed {seed} \\\n",
    "               --device=cpu \\\n",
    "               --num_threads {nthread} \\\n",
    "               --phase_idx {acl_iter} \\\n",
    "               --data_dir {data_dir} \\\n",
    "               --shared_file_dir {data_dir}', *simulations)\n",
    "        active = active_learn(f'--seed {seed+3} --num_new_sample {num_al_sample} --policy uncertainty', simulations, train)\n",
    "        active.result()\n",
    "# invoke the custom/user-defined teach() method\n",
    "teach()"
   ]
  },
  {
   "cell_type": "markdown",
   "id": "07655520-616f-4c61-a44c-bfbead7ce400",
   "metadata": {},
   "source": [
    "Let's make sure to shutdown the resources."
   ]
  },
  {
   "cell_type": "code",
   "execution_count": 7,
   "id": "ae77567e-ac54-463b-bfe0-698ea55fe2ea",
   "metadata": {},
   "outputs": [
    {
     "name": "stdout",
     "output_type": "stream",
     "text": [
      "Shutdown is triggered, terminating the resources gracefully\n"
     ]
    }
   ],
   "source": [
    "engine.shutdown()"
   ]
  }
 ],
 "metadata": {
  "kernelspec": {
   "display_name": "Python 3 (ipykernel)",
   "language": "python",
   "name": "python3"
  },
  "language_info": {
   "codemirror_mode": {
    "name": "ipython",
    "version": 3
   },
   "file_extension": ".py",
   "mimetype": "text/x-python",
   "name": "python",
   "nbconvert_exporter": "python",
   "pygments_lexer": "ipython3",
   "version": "3.11.11"
  }
 },
 "nbformat": 4,
 "nbformat_minor": 5
}
